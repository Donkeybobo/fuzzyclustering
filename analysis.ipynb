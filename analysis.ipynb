{
 "cells": [
  {
   "cell_type": "markdown",
   "metadata": {},
   "source": [
    "# Fuzzy Clustering using QPSO"
   ]
  },
  {
   "cell_type": "code",
   "execution_count": 2,
   "metadata": {},
   "outputs": [],
   "source": [
    "import math\n",
    "import numpy as np\n",
    "import matplotlib.pyplot as plt\n",
    "\n",
    "## import ExtractRulesQPSO class\n",
    "import sys, os\n",
    "sys.path.append(os.getcwd() + '/scripts')\n",
    "from ExtractRulesQPSO import ExtractRulesQPSO\n",
    "from FuzzyClustering import FuzzyClustering"
   ]
  },
  {
   "cell_type": "markdown",
   "metadata": {},
   "source": [
    "## QPSO"
   ]
  },
  {
   "cell_type": "code",
   "execution_count": 2,
   "metadata": {},
   "outputs": [],
   "source": [
    "q = ExtractRulesQPSO(20, 100, 10)\n",
    "# q.solver(1,2)\n",
    "# q.best_particle"
   ]
  },
  {
   "cell_type": "markdown",
   "metadata": {},
   "source": [
    "## Testing FuzzyClustering class"
   ]
  },
  {
   "cell_type": "code",
   "execution_count": 4,
   "metadata": {},
   "outputs": [
    {
     "data": {
      "text/plain": [
       "array([[ 0.06799058,  0.04522867, -0.23394575, ...,  0.3377587 ,\n",
       "         0.17952878, -0.83876809],\n",
       "       [-0.21478374,  0.16786815,  0.52066473, ...,  0.76155071,\n",
       "         0.18100618,  0.6020783 ],\n",
       "       [ 0.14591902,  0.75330055, -0.67028469, ..., -0.74885505,\n",
       "        -0.53987013, -0.97177352],\n",
       "       ...,\n",
       "       [ 0.5553607 ,  0.35671096, -0.96584586, ...,  0.42496436,\n",
       "         0.66489318, -0.99658827],\n",
       "       [ 0.09085669,  0.41916448, -0.08710909, ..., -0.43598745,\n",
       "         0.63837554,  0.51000838],\n",
       "       [ 0.38472673, -0.92857868, -0.28973932, ..., -0.51870529,\n",
       "        -0.21976556,  0.47340713]])"
      ]
     },
     "execution_count": 4,
     "metadata": {},
     "output_type": "execute_result"
    }
   ],
   "source": [
    "data = np.array(np.random.rand(100,20))\n",
    "\n",
    "fc = FuzzyClustering(data)\n",
    "\n",
    "fc.data"
   ]
  },
  {
   "cell_type": "markdown",
   "metadata": {},
   "source": [
    "## Example \n",
    "\n",
    "### Generating synthetic data"
   ]
  },
  {
   "cell_type": "code",
   "execution_count": 25,
   "metadata": {},
   "outputs": [
    {
     "data": {
      "text/plain": [
       "<matplotlib.legend.Legend at 0x10f979048>"
      ]
     },
     "execution_count": 25,
     "metadata": {},
     "output_type": "execute_result"
    },
    {
     "data": {
      "image/png": "[encoded data removed]",
      "text/plain": [
       "<matplotlib.figure.Figure at 0x10f7cf320>"
      ]
     },
     "metadata": {},
     "output_type": "display_data"
    }
   ],
   "source": [
    "random_numbers = np.random.rand(1000)\n",
    "N = 10000\n",
    "tmp_c1 = []\n",
    "tmp_c2 = []\n",
    "\n",
    "for i in range(N):\n",
    "    v_tmp = np.random.rand(2)\n",
    "    \n",
    "    if (v_tmp[0] + v_tmp[1] <= 1):\n",
    "        tmp_c1.append(v_tmp)\n",
    "    else:\n",
    "        tmp_c2.append(v_tmp)\n",
    "\n",
    "## Synthetic data for two classes\n",
    "data_c1 = np.array(tmp_c1)\n",
    "data_c2 = np.array(tmp_c2)\n",
    "\n",
    "plt.scatter(data_c1[:,0], data_c1[:,1], label = 'Class 1')\n",
    "plt.scatter(data_c2[:,0], data_c2[:,1], label = 'Class 2')\n",
    "plt.legend()"
   ]
  },
  {
   "cell_type": "markdown",
   "metadata": {},
   "source": [
    "### Applying fuzzy clustering"
   ]
  },
  {
   "cell_type": "code",
   "execution_count": null,
   "metadata": {},
   "outputs": [],
   "source": [
    "fc1 = FuzzyClustering(data_c1)\n",
    "fc2 = FuzzyClustering(data_c2)"
   ]
  }
 ],
 "metadata": {
  "kernelspec": {
   "display_name": "Python 3",
   "language": "python",
   "name": "python3"
  },
  "language_info": {
   "codemirror_mode": {
    "name": "ipython",
    "version": 3
   },
   "file_extension": ".py",
   "mimetype": "text/x-python",
   "name": "python",
   "nbconvert_exporter": "python",
   "pygments_lexer": "ipython3",
   "version": "3.6.4"
  }
 },
 "nbformat": 4,
 "nbformat_minor": 2
}
