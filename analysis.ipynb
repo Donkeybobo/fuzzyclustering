{
 "cells": [
  {
   "cell_type": "markdown",
   "metadata": {},
   "source": [
    "# Fuzzy Clustering using QPSO"
   ]
  },
  {
   "cell_type": "code",
   "execution_count": 1,
   "metadata": {},
   "outputs": [],
   "source": [
    "import math\n",
    "import numpy as np\n",
    "import matplotlib.pyplot as plt\n",
    "\n",
    "## import ExtractRulesQPSO class\n",
    "import sys, os\n",
    "sys.path.append(os.getcwd() + '/scripts')\n",
    "from ExtractRulesQPSO import ExtractRulesQPSO\n",
    "from FuzzyClustering import FuzzyClustering"
   ]
  },
  {
   "cell_type": "markdown",
   "metadata": {},
   "source": [
    "## QPSO"
   ]
  },
  {
   "cell_type": "code",
   "execution_count": 2,
   "metadata": {},
   "outputs": [],
   "source": [
    "q = ExtractRulesQPSO(20, 100, 10)\n",
    "# q.solver(1,2)\n",
    "# q.best_particle"
   ]
  },
  {
   "cell_type": "markdown",
   "metadata": {},
   "source": [
    "## Testing FuzzyClustering class"
   ]
  },
  {
   "cell_type": "code",
   "execution_count": 4,
   "metadata": {},
   "outputs": [
    {
     "data": {
      "text/plain": [
       "array([[ 0.06799058,  0.04522867, -0.23394575, ...,  0.3377587 ,\n",
       "         0.17952878, -0.83876809],\n",
       "       [-0.21478374,  0.16786815,  0.52066473, ...,  0.76155071,\n",
       "         0.18100618,  0.6020783 ],\n",
       "       [ 0.14591902,  0.75330055, -0.67028469, ..., -0.74885505,\n",
       "        -0.53987013, -0.97177352],\n",
       "       ...,\n",
       "       [ 0.5553607 ,  0.35671096, -0.96584586, ...,  0.42496436,\n",
       "         0.66489318, -0.99658827],\n",
       "       [ 0.09085669,  0.41916448, -0.08710909, ..., -0.43598745,\n",
       "         0.63837554,  0.51000838],\n",
       "       [ 0.38472673, -0.92857868, -0.28973932, ..., -0.51870529,\n",
       "        -0.21976556,  0.47340713]])"
      ]
     },
     "execution_count": 4,
     "metadata": {},
     "output_type": "execute_result"
    }
   ],
   "source": [
    "data = np.array(np.random.rand(100,20))\n",
    "\n",
    "fc = FuzzyClustering(data)\n",
    "\n",
    "fc.data"
   ]
  },
  {
   "cell_type": "code",
   "execution_count": 6,
   "metadata": {},
   "outputs": [],
   "source": [
    "a = 2"
   ]
  }
 ],
 "metadata": {
  "kernelspec": {
   "display_name": "Python 3",
   "language": "python",
   "name": "python3"
  },
  "language_info": {
   "codemirror_mode": {
    "name": "ipython",
    "version": 3
   },
   "file_extension": ".py",
   "mimetype": "text/x-python",
   "name": "python",
   "nbconvert_exporter": "python",
   "pygments_lexer": "ipython3",
   "version": "3.6.4"
  }
 },
 "nbformat": 4,
 "nbformat_minor": 2
}
