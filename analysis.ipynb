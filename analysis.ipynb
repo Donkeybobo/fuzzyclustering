{
 "cells": [
  {
   "cell_type": "markdown",
   "metadata": {},
   "source": [
    "# Fuzzy Clustering using QPSO\n",
    "\n",
    "This notebook demonstrates how to apply fuzzy clustering algorithm to labeled multi-dimensional data to find cluster centers. \n",
    "\n",
    "## Summaries\n",
    "\n",
    "* Generate a set of 2-dimensional data points with known labels.\n",
    "\n",
    "* Apply the fuzzy clustering algorithm to the aforementioned data points.\n",
    "\n",
    "* Visualize the results and check the validity of the cluster centers found by the algorithm."
   ]
  },
  {
   "cell_type": "code",
   "execution_count": null,
   "metadata": {},
   "outputs": [],
   "source": [
    "import math\n",
    "import numpy as np\n",
    "import pandas as pd\n",
    "import matplotlib.pyplot as plt\n",
    "\n",
    "## import ExtractRulesQPSO class\n",
    "import sys, os\n",
    "sys.path.append(os.getcwd() + '/scripts')\n",
    "from ExtractRulesQPSO import ExtractRulesQPSO\n",
    "from FuzzyClustering import FuzzyClustering\n",
    "from FuzzyRule import FuzzyRule"
   ]
  },
  {
   "cell_type": "markdown",
   "metadata": {},
   "source": [
    "## Example application of the fuzzy clustering algorithm\n",
    "\n",
    "### Generating synthetic data\n",
    "\n",
    "We made the data points at the lower left as \"Class 1\", and those at the upper right as \"Class 2\".  "
   ]
  },
  {
   "cell_type": "code",
   "execution_count": null,
   "metadata": {},
   "outputs": [],
   "source": [
    "random_numbers = np.random.rand(1000)\n",
    "N = 300  ## number of data points\n",
    "tmp_c1 = []\n",
    "tmp_c2 = []\n",
    "\n",
    "for i in range(N):\n",
    "    v_tmp = np.random.rand(2)\n",
    "    \n",
    "    if (v_tmp[0] + v_tmp[1] <= 1):\n",
    "        tmp_c1.append(v_tmp)\n",
    "    else:\n",
    "        tmp_c2.append(v_tmp)\n",
    "\n",
    "## Synthetic data for two classes\n",
    "data_c1 = np.array(tmp_c1)\n",
    "data_c2 = np.array(tmp_c2)\n",
    "\n",
    "plt.scatter(data_c1[:,0], data_c1[:,1], label = 'Class 1')\n",
    "plt.scatter(data_c2[:,0], data_c2[:,1], label = 'Class 2')\n",
    "plt.xlabel('x1')\n",
    "plt.ylabel('x2')\n",
    "plt.legend();"
   ]
  },
  {
   "cell_type": "markdown",
   "metadata": {},
   "source": [
    "### Applying fuzzy clustering"
   ]
  },
  {
   "cell_type": "code",
   "execution_count": null,
   "metadata": {},
   "outputs": [],
   "source": [
    "fc1 = FuzzyClustering(data_c1)\n",
    "fc2 = FuzzyClustering(data_c2)"
   ]
  },
  {
   "cell_type": "code",
   "execution_count": null,
   "metadata": {},
   "outputs": [],
   "source": [
    "## finding centers\n",
    "fc1.extractClusteringCenters()\n",
    "centers_c1 = fc1.getDenormalizedClusterCenters()\n",
    "fc2.extractClusteringCenters()\n",
    "centers_c2 = fc2.getDenormalizedClusterCenters()"
   ]
  },
  {
   "cell_type": "code",
   "execution_count": null,
   "metadata": {},
   "outputs": [],
   "source": [
    "centers_c1, centers_c2"
   ]
  },
  {
   "cell_type": "code",
   "execution_count": null,
   "metadata": {},
   "outputs": [],
   "source": [
    "centers_c1_df = pd.DataFrame(centers_c1)\n",
    "num_rules_c1 = len(centers_c1)\n",
    "centers_c1_df.columns = ['x' + str(i + 1) for i in range(len(centers_c1[0]))]\n",
    "centers_c1_df['class_label'] = 'Y1'\n",
    "\n",
    "centers_c2_df = pd.DataFrame(centers_c2)\n",
    "num_rules_c2 = len(centers_c2)\n",
    "centers_c2_df.columns = ['x' + str(i + 1) for i in range(len(centers_c2[0]))]\n",
    "centers_c2_df['class_label'] = 'Y2'"
   ]
  },
  {
   "cell_type": "code",
   "execution_count": null,
   "metadata": {},
   "outputs": [],
   "source": [
    "all_class_centers = []\n",
    "all_class_centers.append(centers_c1)\n",
    "all_class_centers.append(centers_c2)\n",
    "\n",
    "all_class_centers"
   ]
  },
  {
   "cell_type": "code",
   "execution_count": null,
   "metadata": {},
   "outputs": [],
   "source": [
    "centers_c1_df.loc[:, centers_c1_df.columns != 'class_label'].iloc[[2]]"
   ]
  },
  {
   "cell_type": "markdown",
   "metadata": {},
   "source": [
    "### Plotting resulting cluster centers"
   ]
  },
  {
   "cell_type": "code",
   "execution_count": null,
   "metadata": {},
   "outputs": [],
   "source": [
    "plt.scatter(data_c1[:,0], data_c1[:,1], label = 'Class 1')\n",
    "plt.scatter(data_c2[:,0], data_c2[:,1], label = 'Class 2')\n",
    "\n",
    "## Add centers of class 1\n",
    "for cs in centers_c1:\n",
    "    plt.scatter(cs[0], cs[1], marker = 'X', color = 'green', s = 250)\n",
    "\n",
    "## Add centers of class 2\n",
    "for cs in centers_c2:\n",
    "    plt.scatter(cs[0], cs[1], marker = 'X', color = 'red', s = 250)\n",
    "\n",
    "plt.legend()"
   ]
  },
  {
   "cell_type": "markdown",
   "metadata": {},
   "source": [
    "## Use QPSO to optimize the rules\n",
    "\n",
    "We can also assume Gaussian MFs of each of the cluster centers, with one addtional parameter _std_ for each of the MFs; then, we apply QPSO to optimize classification error defined in the __ExtractRulesQPSO__ class."
   ]
  },
  {
   "cell_type": "code",
   "execution_count": null,
   "metadata": {},
   "outputs": [],
   "source": [
    "qpso = ExtractRulesQPSO(30, 50, 2 * (len(centers_c1) + len(centers_c2)))"
   ]
  },
  {
   "cell_type": "code",
   "execution_count": null,
   "metadata": {},
   "outputs": [],
   "source": [
    "qpso.solver([centers_c1, centers_c2], [data_c1, data_c2])"
   ]
  },
  {
   "cell_type": "code",
   "execution_count": null,
   "metadata": {},
   "outputs": [],
   "source": [
    "qpso.best_particle"
   ]
  },
  {
   "cell_type": "code",
   "execution_count": null,
   "metadata": {},
   "outputs": [],
   "source": [
    "tuned_stds = ExtractRulesQPSO._arrangeStds(qpso.best_particle, all_class_centers)\n",
    "tuned_stds"
   ]
  },
  {
   "cell_type": "markdown",
   "metadata": {},
   "source": [
    "### Show rules for both classes"
   ]
  },
  {
   "cell_type": "code",
   "execution_count": null,
   "metadata": {},
   "outputs": [],
   "source": [
    "class_labels = ['Y1', 'Y2']\n",
    "\n",
    "for all_centers, all_stds, class_label in zip(all_class_centers, tuned_stds, class_labels):\n",
    "    # iterate through all classes\n",
    "    \n",
    "    for centers, stds in zip(all_centers, all_stds):\n",
    "        # iterate through all rules\n",
    "        rule = FuzzyRule(centers, stds, class_label)\n",
    "        rule.plotRule()"
   ]
  }
 ],
 "metadata": {
  "kernelspec": {
   "display_name": "Python 3",
   "language": "python",
   "name": "python3"
  },
  "language_info": {
   "codemirror_mode": {
    "name": "ipython",
    "version": 3
   },
   "file_extension": ".py",
   "mimetype": "text/x-python",
   "name": "python",
   "nbconvert_exporter": "python",
   "pygments_lexer": "ipython3",
   "version": "3.6.4"
  }
 },
 "nbformat": 4,
 "nbformat_minor": 2
}
