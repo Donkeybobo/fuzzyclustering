{
 "cells": [
  {
   "cell_type": "markdown",
   "metadata": {},
   "source": [
    "# Fuzzy Clustering using QPSO"
   ]
  },
  {
   "cell_type": "code",
   "execution_count": 1,
   "metadata": {},
   "outputs": [],
   "source": [
    "import math\n",
    "import numpy as np\n",
    "import matplotlib.pyplot as plt\n",
    "\n",
    "## import ExtractRulesQPSO class\n",
    "import sys, os\n",
    "sys.path.append(os.getcwd() + '/scripts')\n",
    "from ExtractRulesQPSO import ExtractRulesQPSO\n",
    "from FuzzyClustering import FuzzyClustering\n",
    "from FuzzyRule import FuzzyRule"
   ]
  },
  {
   "cell_type": "code",
   "execution_count": 2,
   "metadata": {},
   "outputs": [
    {
     "name": "stdout",
     "output_type": "stream",
     "text": [
      "/Users/Minshen/Documents/PythonProjects/fuzzyclustering\n"
     ]
    }
   ],
   "source": [
    "r = FuzzyRule(1,2,'k')"
   ]
  },
  {
   "cell_type": "markdown",
   "metadata": {},
   "source": [
    "## Example \n",
    "\n",
    "### Generating synthetic data"
   ]
  },
  {
   "cell_type": "code",
   "execution_count": null,
   "metadata": {},
   "outputs": [],
   "source": [
    "random_numbers = np.random.rand(1000)\n",
    "N = 300  ## number of data points\n",
    "tmp_c1 = []\n",
    "tmp_c2 = []\n",
    "\n",
    "for i in range(N):\n",
    "    v_tmp = np.random.rand(2)\n",
    "    \n",
    "    if (v_tmp[0] + v_tmp[1] <= 1):\n",
    "        tmp_c1.append(v_tmp)\n",
    "    else:\n",
    "        tmp_c2.append(v_tmp)\n",
    "\n",
    "## Synthetic data for two classes\n",
    "data_c1 = np.array(tmp_c1)\n",
    "data_c2 = np.array(tmp_c2)\n",
    "\n",
    "plt.scatter(data_c1[:,0], data_c1[:,1], label = 'Class 1')\n",
    "plt.scatter(data_c2[:,0], data_c2[:,1], label = 'Class 2')\n",
    "plt.legend()"
   ]
  },
  {
   "cell_type": "markdown",
   "metadata": {},
   "source": [
    "### Applying fuzzy clustering"
   ]
  },
  {
   "cell_type": "code",
   "execution_count": null,
   "metadata": {},
   "outputs": [],
   "source": [
    "fc1 = FuzzyClustering(data_c1)\n",
    "fc2 = FuzzyClustering(data_c2)"
   ]
  },
  {
   "cell_type": "code",
   "execution_count": null,
   "metadata": {},
   "outputs": [],
   "source": [
    "## finding centers\n",
    "fc1.extractClusteringCenters()\n",
    "centers_c1 = fc1.getDenormalizedClusterCenters()\n",
    "fc2.extractClusteringCenters()\n",
    "centers_c2 = fc2.getDenormalizedClusterCenters()"
   ]
  },
  {
   "cell_type": "code",
   "execution_count": null,
   "metadata": {},
   "outputs": [],
   "source": [
    "centers_c1, centers_c2"
   ]
  },
  {
   "cell_type": "markdown",
   "metadata": {},
   "source": [
    "### Plotting resulting cluster centers"
   ]
  },
  {
   "cell_type": "code",
   "execution_count": null,
   "metadata": {},
   "outputs": [],
   "source": [
    "plt.scatter(data_c1[:,0], data_c1[:,1], label = 'Class 1')\n",
    "plt.scatter(data_c2[:,0], data_c2[:,1], label = 'Class 2')\n",
    "\n",
    "## Add centers of class 1\n",
    "for cs in centers_c1:\n",
    "    plt.scatter(cs[0], cs[1], marker = 'X', color = 'green', s = 250)\n",
    "\n",
    "## Add centers of class 2\n",
    "for cs in centers_c2:\n",
    "    plt.scatter(cs[0], cs[1], marker = 'X', color = 'red', s = 250)\n",
    "\n",
    "plt.legend()"
   ]
  },
  {
   "cell_type": "markdown",
   "metadata": {},
   "source": [
    "## Use QPSO to optimize the rules"
   ]
  },
  {
   "cell_type": "code",
   "execution_count": null,
   "metadata": {},
   "outputs": [],
   "source": [
    "qpso = ExtractRulesQPSO(30, 50, 2 * (len(centers_c1) + len(centers_c2)))"
   ]
  },
  {
   "cell_type": "code",
   "execution_count": null,
   "metadata": {},
   "outputs": [],
   "source": [
    "qpso.solver([centers_c1, centers_c2], [data_c1, data_c2])"
   ]
  },
  {
   "cell_type": "code",
   "execution_count": null,
   "metadata": {},
   "outputs": [],
   "source": [
    "qpso.best_particle"
   ]
  },
  {
   "cell_type": "markdown",
   "metadata": {},
   "source": [
    "### Show rules for class 1"
   ]
  },
  {
   "cell_type": "code",
   "execution_count": null,
   "metadata": {},
   "outputs": [],
   "source": [
    "centers_c1"
   ]
  },
  {
   "cell_type": "code",
   "execution_count": null,
   "metadata": {},
   "outputs": [],
   "source": [
    "xs = np.linspace(0, 1, 1000)\n",
    "    \n",
    "plt.plot(xs, ExtractRulesQPSO._expMembership(xs, centers_c1[0][0], qpso.best_particle[0]), label = 'x1')\n",
    "plt.plot(xs, ExtractRulesQPSO._expMembership(xs, centers_c1[0][1], qpso.best_particle[1]), label = 'x2')\n",
    "plt.legend()"
   ]
  },
  {
   "cell_type": "code",
   "execution_count": null,
   "metadata": {},
   "outputs": [],
   "source": [
    "plt.plot(xs, ExtractRulesQPSO._expMembership(xs, centers_c1[1][0], qpso.best_particle[2]), label = 'x1')\n",
    "plt.plot(xs, ExtractRulesQPSO._expMembership(xs, centers_c1[1][1], qpso.best_particle[3]), label = 'x2')\n",
    "plt.legend()"
   ]
  },
  {
   "cell_type": "code",
   "execution_count": null,
   "metadata": {},
   "outputs": [],
   "source": [
    "plt.plot(xs, ExtractRulesQPSO._expMembership(xs, centers_c1[2][0], qpso.best_particle[4]), label = 'x1')\n",
    "plt.plot(xs, ExtractRulesQPSO._expMembership(xs, centers_c1[2][1], qpso.best_particle[5]), label = 'x2')\n",
    "plt.legend()"
   ]
  },
  {
   "cell_type": "markdown",
   "metadata": {},
   "source": [
    "### Show rules for class 2"
   ]
  },
  {
   "cell_type": "code",
   "execution_count": null,
   "metadata": {},
   "outputs": [],
   "source": [
    "centers_c2"
   ]
  },
  {
   "cell_type": "code",
   "execution_count": null,
   "metadata": {},
   "outputs": [],
   "source": [
    "plt.plot(xs, ExtractRulesQPSO._expMembership(xs, centers_c2[0][0], qpso.best_particle[6]), label = 'x1')\n",
    "plt.plot(xs, ExtractRulesQPSO._expMembership(xs, centers_c2[0][1], qpso.best_particle[7]), label = 'x2')\n",
    "plt.legend()"
   ]
  },
  {
   "cell_type": "code",
   "execution_count": null,
   "metadata": {},
   "outputs": [],
   "source": [
    "plt.plot(xs, ExtractRulesQPSO._expMembership(xs, centers_c2[1][0], qpso.best_particle[8]), label = 'x1')\n",
    "plt.plot(xs, ExtractRulesQPSO._expMembership(xs, centers_c2[2][1], qpso.best_particle[9]), label = 'x2')\n",
    "plt.legend()"
   ]
  },
  {
   "cell_type": "code",
   "execution_count": null,
   "metadata": {},
   "outputs": [],
   "source": [
    "plt.plot(xs, ExtractRulesQPSO._expMembership(xs, centers_c2[2][0], qpso.best_particle[10]), label = 'x1')\n",
    "plt.plot(xs, ExtractRulesQPSO._expMembership(xs, centers_c2[2][1], qpso.best_particle[11]), label = 'x2')\n",
    "plt.legend()"
   ]
  }
 ],
 "metadata": {
  "kernelspec": {
   "display_name": "Python 3",
   "language": "python",
   "name": "python3"
  },
  "language_info": {
   "codemirror_mode": {
    "name": "ipython",
    "version": 3
   },
   "file_extension": ".py",
   "mimetype": "text/x-python",
   "name": "python",
   "nbconvert_exporter": "python",
   "pygments_lexer": "ipython3",
   "version": "3.6.4"
  }
 },
 "nbformat": 4,
 "nbformat_minor": 2
}
